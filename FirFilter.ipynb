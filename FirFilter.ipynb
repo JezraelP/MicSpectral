{
 "cells": [
  {
   "cell_type": "code",
   "execution_count": 2,
   "metadata": {},
   "outputs": [],
   "source": [
    "from scipy.signal import firwin"
   ]
  },
  {
   "cell_type": "code",
   "execution_count": 3,
   "metadata": {},
   "outputs": [
    {
     "name": "stdout",
     "output_type": "stream",
     "text": [
      "[-8.22227103e-05 -8.54656012e-04 -2.07754600e-03 -3.91885692e-03\n",
      " -6.12657310e-03 -7.90410010e-03 -7.96574527e-03 -4.78882189e-03\n",
      "  2.98462800e-03  1.60982695e-02  3.43137109e-02  5.62444444e-02\n",
      "  7.94645152e-02  1.00892883e-01  1.17377383e-01  1.26342688e-01\n",
      "  1.26342688e-01  1.17377383e-01  1.00892883e-01  7.94645152e-02\n",
      "  5.62444444e-02  3.43137109e-02  1.60982695e-02  2.98462800e-03\n",
      " -4.78882189e-03 -7.96574527e-03 -7.90410010e-03 -6.12657310e-03\n",
      " -3.91885692e-03 -2.07754600e-03 -8.54656012e-04 -8.22227103e-05]\n"
     ]
    }
   ],
   "source": [
    "sample_rate = 5000\n",
    "cutoff_frequency = 320\n",
    "num_taps = 32  # Número de coeficientes\n",
    "coefficients = firwin(num_taps, cutoff_frequency, fs=sample_rate, pass_zero=True)\n",
    "\n",
    "print(coefficients)"
   ]
  },
  {
   "cell_type": "code",
   "execution_count": null,
   "metadata": {},
   "outputs": [],
   "source": []
  }
 ],
 "metadata": {
  "kernelspec": {
   "display_name": "Python 3",
   "language": "python",
   "name": "python3"
  },
  "language_info": {
   "codemirror_mode": {
    "name": "ipython",
    "version": 3
   },
   "file_extension": ".py",
   "mimetype": "text/x-python",
   "name": "python",
   "nbconvert_exporter": "python",
   "pygments_lexer": "ipython3",
   "version": "3.13.2"
  }
 },
 "nbformat": 4,
 "nbformat_minor": 2
}
